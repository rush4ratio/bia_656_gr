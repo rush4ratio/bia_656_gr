{
 "cells": [
  {
   "cell_type": "code",
   "execution_count": 1,
   "metadata": {
    "collapsed": true
   },
   "outputs": [],
   "source": [
    "#import lib\n",
    "import pandas as pd\n",
    "import numpy as np"
   ]
  },
  {
   "cell_type": "code",
   "execution_count": 2,
   "metadata": {
    "collapsed": false,
    "scrolled": true
   },
   "outputs": [],
   "source": [
    "#read dataset\n",
    "data = pd.read_csv('contracts_3_31_2017_partial_clean.csv' ,encoding =  \"ISO-8859-1\")\n",
    "#data = pd.read_csv('contracts_4_4_2017_partial_clean.csv')"
   ]
  },
  {
   "cell_type": "code",
   "execution_count": 3,
   "metadata": {
    "collapsed": false
   },
   "outputs": [
    {
     "data": {
      "text/html": [
       "<div>\n",
       "<table border=\"1\" class=\"dataframe\">\n",
       "  <thead>\n",
       "    <tr style=\"text-align: right;\">\n",
       "      <th></th>\n",
       "      <th>procuring_entity</th>\n",
       "      <th>description</th>\n",
       "      <th>amount</th>\n",
       "      <th>procuring_method</th>\n",
       "      <th>advert_date</th>\n",
       "      <th>tenders_sold</th>\n",
       "      <th>bids_received</th>\n",
       "      <th>type_of_procuring_entity</th>\n",
       "      <th>ad_date_months</th>\n",
       "    </tr>\n",
       "  </thead>\n",
       "  <tbody>\n",
       "    <tr>\n",
       "      <th>0</th>\n",
       "      <td>kenya industrial research development institute</td>\n",
       "      <td>provision of inpatient medical insurance cover</td>\n",
       "      <td>19538935.0</td>\n",
       "      <td>open tender</td>\n",
       "      <td>2014-06-26</td>\n",
       "      <td>16.0</td>\n",
       "      <td>16.0</td>\n",
       "      <td>parastatal</td>\n",
       "      <td>6</td>\n",
       "    </tr>\n",
       "    <tr>\n",
       "      <th>1</th>\n",
       "      <td>kenya industrial research development institute</td>\n",
       "      <td>provision of security services</td>\n",
       "      <td>7864800.0</td>\n",
       "      <td>open tender</td>\n",
       "      <td>2014-06-26</td>\n",
       "      <td>17.0</td>\n",
       "      <td>17.0</td>\n",
       "      <td>parastatal</td>\n",
       "      <td>6</td>\n",
       "    </tr>\n",
       "    <tr>\n",
       "      <th>2</th>\n",
       "      <td>kenya industrial research development institute</td>\n",
       "      <td>audio visual installation works for the propos...</td>\n",
       "      <td>179900280.0</td>\n",
       "      <td>open tender</td>\n",
       "      <td>2014-06-26</td>\n",
       "      <td>7.0</td>\n",
       "      <td>5.0</td>\n",
       "      <td>parastatal</td>\n",
       "      <td>6</td>\n",
       "    </tr>\n",
       "    <tr>\n",
       "      <th>3</th>\n",
       "      <td>kenya industrial research development institute</td>\n",
       "      <td>lift and escalator installation works for the ...</td>\n",
       "      <td>119532786.0</td>\n",
       "      <td>open tender</td>\n",
       "      <td>2014-06-26</td>\n",
       "      <td>6.0</td>\n",
       "      <td>6.0</td>\n",
       "      <td>parastatal</td>\n",
       "      <td>6</td>\n",
       "    </tr>\n",
       "    <tr>\n",
       "      <th>4</th>\n",
       "      <td>kenya industrial research development institute</td>\n",
       "      <td>supply, installation, training and commissioni...</td>\n",
       "      <td>220260000.0</td>\n",
       "      <td>open tender</td>\n",
       "      <td>2015-01-02</td>\n",
       "      <td>-19.0</td>\n",
       "      <td>-19.0</td>\n",
       "      <td>parastatal</td>\n",
       "      <td>1</td>\n",
       "    </tr>\n",
       "  </tbody>\n",
       "</table>\n",
       "</div>"
      ],
      "text/plain": [
       "                                  procuring_entity  \\\n",
       "0  kenya industrial research development institute   \n",
       "1  kenya industrial research development institute   \n",
       "2  kenya industrial research development institute   \n",
       "3  kenya industrial research development institute   \n",
       "4  kenya industrial research development institute   \n",
       "\n",
       "                                         description       amount  \\\n",
       "0     provision of inpatient medical insurance cover   19538935.0   \n",
       "1                     provision of security services    7864800.0   \n",
       "2  audio visual installation works for the propos...  179900280.0   \n",
       "3  lift and escalator installation works for the ...  119532786.0   \n",
       "4  supply, installation, training and commissioni...  220260000.0   \n",
       "\n",
       "  procuring_method advert_date  tenders_sold  bids_received  \\\n",
       "0      open tender  2014-06-26          16.0           16.0   \n",
       "1      open tender  2014-06-26          17.0           17.0   \n",
       "2      open tender  2014-06-26           7.0            5.0   \n",
       "3      open tender  2014-06-26           6.0            6.0   \n",
       "4      open tender  2015-01-02         -19.0          -19.0   \n",
       "\n",
       "  type_of_procuring_entity  ad_date_months  \n",
       "0               parastatal               6  \n",
       "1               parastatal               6  \n",
       "2               parastatal               6  \n",
       "3               parastatal               6  \n",
       "4               parastatal               1  "
      ]
     },
     "execution_count": 3,
     "metadata": {},
     "output_type": "execute_result"
    }
   ],
   "source": [
    "data.head()"
   ]
  },
  {
   "cell_type": "code",
   "execution_count": 4,
   "metadata": {
    "collapsed": false
   },
   "outputs": [
    {
     "data": {
      "text/plain": [
       "488"
      ]
     },
     "execution_count": 4,
     "metadata": {},
     "output_type": "execute_result"
    }
   ],
   "source": [
    "#Check invalid data bids_received>tenders_sold <- invalid\n",
    "len(data[data['bids_received'] > data['tenders_sold']])"
   ]
  },
  {
   "cell_type": "code",
   "execution_count": 5,
   "metadata": {
    "collapsed": false
   },
   "outputs": [
    {
     "data": {
      "text/html": [
       "<div>\n",
       "<table border=\"1\" class=\"dataframe\">\n",
       "  <thead>\n",
       "    <tr style=\"text-align: right;\">\n",
       "      <th></th>\n",
       "      <th>procuring_entity</th>\n",
       "      <th>description</th>\n",
       "      <th>amount</th>\n",
       "      <th>procuring_method</th>\n",
       "      <th>advert_date</th>\n",
       "      <th>tenders_sold</th>\n",
       "      <th>bids_received</th>\n",
       "      <th>type_of_procuring_entity</th>\n",
       "      <th>ad_date_months</th>\n",
       "    </tr>\n",
       "  </thead>\n",
       "  <tbody>\n",
       "    <tr>\n",
       "      <th>0</th>\n",
       "      <td>kenya industrial research development institute</td>\n",
       "      <td>provision of inpatient medical insurance cover</td>\n",
       "      <td>19538935.0</td>\n",
       "      <td>open tender</td>\n",
       "      <td>2014-06-26</td>\n",
       "      <td>16.0</td>\n",
       "      <td>16.0</td>\n",
       "      <td>parastatal</td>\n",
       "      <td>6</td>\n",
       "    </tr>\n",
       "    <tr>\n",
       "      <th>1</th>\n",
       "      <td>kenya industrial research development institute</td>\n",
       "      <td>provision of security services</td>\n",
       "      <td>7864800.0</td>\n",
       "      <td>open tender</td>\n",
       "      <td>2014-06-26</td>\n",
       "      <td>17.0</td>\n",
       "      <td>17.0</td>\n",
       "      <td>parastatal</td>\n",
       "      <td>6</td>\n",
       "    </tr>\n",
       "    <tr>\n",
       "      <th>2</th>\n",
       "      <td>kenya industrial research development institute</td>\n",
       "      <td>audio visual installation works for the propos...</td>\n",
       "      <td>179900280.0</td>\n",
       "      <td>open tender</td>\n",
       "      <td>2014-06-26</td>\n",
       "      <td>7.0</td>\n",
       "      <td>5.0</td>\n",
       "      <td>parastatal</td>\n",
       "      <td>6</td>\n",
       "    </tr>\n",
       "    <tr>\n",
       "      <th>3</th>\n",
       "      <td>kenya industrial research development institute</td>\n",
       "      <td>lift and escalator installation works for the ...</td>\n",
       "      <td>119532786.0</td>\n",
       "      <td>open tender</td>\n",
       "      <td>2014-06-26</td>\n",
       "      <td>6.0</td>\n",
       "      <td>6.0</td>\n",
       "      <td>parastatal</td>\n",
       "      <td>6</td>\n",
       "    </tr>\n",
       "    <tr>\n",
       "      <th>4</th>\n",
       "      <td>kenya industrial research development institute</td>\n",
       "      <td>supply, installation, training and commissioni...</td>\n",
       "      <td>220260000.0</td>\n",
       "      <td>open tender</td>\n",
       "      <td>2015-01-02</td>\n",
       "      <td>-19.0</td>\n",
       "      <td>-19.0</td>\n",
       "      <td>parastatal</td>\n",
       "      <td>1</td>\n",
       "    </tr>\n",
       "    <tr>\n",
       "      <th>5</th>\n",
       "      <td>kenya industrial research development institute</td>\n",
       "      <td>supply, installation , training and commission...</td>\n",
       "      <td>129757720.0</td>\n",
       "      <td>open tender</td>\n",
       "      <td>2015-01-02</td>\n",
       "      <td>NaN</td>\n",
       "      <td>NaN</td>\n",
       "      <td>parastatal</td>\n",
       "      <td>1</td>\n",
       "    </tr>\n",
       "  </tbody>\n",
       "</table>\n",
       "</div>"
      ],
      "text/plain": [
       "                                  procuring_entity  \\\n",
       "0  kenya industrial research development institute   \n",
       "1  kenya industrial research development institute   \n",
       "2  kenya industrial research development institute   \n",
       "3  kenya industrial research development institute   \n",
       "4  kenya industrial research development institute   \n",
       "5  kenya industrial research development institute   \n",
       "\n",
       "                                         description       amount  \\\n",
       "0     provision of inpatient medical insurance cover   19538935.0   \n",
       "1                     provision of security services    7864800.0   \n",
       "2  audio visual installation works for the propos...  179900280.0   \n",
       "3  lift and escalator installation works for the ...  119532786.0   \n",
       "4  supply, installation, training and commissioni...  220260000.0   \n",
       "5  supply, installation , training and commission...  129757720.0   \n",
       "\n",
       "  procuring_method advert_date  tenders_sold  bids_received  \\\n",
       "0      open tender  2014-06-26          16.0           16.0   \n",
       "1      open tender  2014-06-26          17.0           17.0   \n",
       "2      open tender  2014-06-26           7.0            5.0   \n",
       "3      open tender  2014-06-26           6.0            6.0   \n",
       "4      open tender  2015-01-02         -19.0          -19.0   \n",
       "5      open tender  2015-01-02           NaN            NaN   \n",
       "\n",
       "  type_of_procuring_entity  ad_date_months  \n",
       "0               parastatal               6  \n",
       "1               parastatal               6  \n",
       "2               parastatal               6  \n",
       "3               parastatal               6  \n",
       "4               parastatal               1  \n",
       "5               parastatal               1  "
      ]
     },
     "execution_count": 5,
     "metadata": {},
     "output_type": "execute_result"
    }
   ],
   "source": [
    "#Replace bids_received > tenders_sold \n",
    "data.ix[data.tenders_sold < data.bids_received ,['tenders_sold','bids_received']] = np.nan;\n",
    "data.ix[:5]"
   ]
  },
  {
   "cell_type": "code",
   "execution_count": 6,
   "metadata": {
    "collapsed": false
   },
   "outputs": [
    {
     "data": {
      "text/html": [
       "<div>\n",
       "<table border=\"1\" class=\"dataframe\">\n",
       "  <thead>\n",
       "    <tr style=\"text-align: right;\">\n",
       "      <th></th>\n",
       "      <th>procuring_entity</th>\n",
       "      <th>description</th>\n",
       "      <th>amount</th>\n",
       "      <th>procuring_method</th>\n",
       "      <th>advert_date</th>\n",
       "      <th>tenders_sold</th>\n",
       "      <th>bids_received</th>\n",
       "      <th>type_of_procuring_entity</th>\n",
       "      <th>ad_date_months</th>\n",
       "    </tr>\n",
       "  </thead>\n",
       "  <tbody>\n",
       "    <tr>\n",
       "      <th>4</th>\n",
       "      <td>kenya industrial research development institute</td>\n",
       "      <td>supply, installation, training and commissioni...</td>\n",
       "      <td>220260000.0</td>\n",
       "      <td>open tender</td>\n",
       "      <td>2015-01-02</td>\n",
       "      <td>-19.0</td>\n",
       "      <td>-19.0</td>\n",
       "      <td>parastatal</td>\n",
       "      <td>1</td>\n",
       "    </tr>\n",
       "  </tbody>\n",
       "</table>\n",
       "</div>"
      ],
      "text/plain": [
       "                                  procuring_entity  \\\n",
       "4  kenya industrial research development institute   \n",
       "\n",
       "                                         description       amount  \\\n",
       "4  supply, installation, training and commissioni...  220260000.0   \n",
       "\n",
       "  procuring_method advert_date  tenders_sold  bids_received  \\\n",
       "4      open tender  2015-01-02         -19.0          -19.0   \n",
       "\n",
       "  type_of_procuring_entity  ad_date_months  \n",
       "4               parastatal               1  "
      ]
     },
     "execution_count": 6,
     "metadata": {},
     "output_type": "execute_result"
    }
   ],
   "source": [
    "#Check invalid data bids_received or tenders_sold < 0\n",
    "data[data['bids_received'] < 0]"
   ]
  },
  {
   "cell_type": "code",
   "execution_count": 7,
   "metadata": {
    "collapsed": false
   },
   "outputs": [],
   "source": [
    "#Replace tenders_sold <0 \n",
    "data.ix[data.tenders_sold <0 ,['tenders_sold','bids_received']] = np.nan;"
   ]
  },
  {
   "cell_type": "code",
   "execution_count": null,
   "metadata": {
    "collapsed": false
   },
   "outputs": [],
   "source": [
    "print(len(data[data['bids_received']==0]),len(data[data['tenders_sold']==0]))\n"
   ]
  },
  {
   "cell_type": "code",
   "execution_count": null,
   "metadata": {
    "collapsed": false
   },
   "outputs": [],
   "source": [
    "data['tenders_sold'] = data['tenders_sold'].replace({ 0 : np.nan })\n",
    "data['bids_received'] = data['bids_received'].replace({ 0 : np.nan })\n"
   ]
  },
  {
   "cell_type": "code",
   "execution_count": null,
   "metadata": {
    "collapsed": false
   },
   "outputs": [],
   "source": [
    "data.groupby([\"tenders_sold\",\"bids_received\"]).size()"
   ]
  },
  {
   "cell_type": "code",
   "execution_count": null,
   "metadata": {
    "collapsed": false
   },
   "outputs": [],
   "source": [
    "#Not to use IQR Method to find IQR\n",
    "q1 = data['tenders_sold'].quantile(.25)\n",
    "q3 = data['tenders_sold'].quantile(.75)\n",
    "iqr = q3-q1\n",
    "print(iqr)"
   ]
  },
  {
   "cell_type": "code",
   "execution_count": null,
   "metadata": {
    "collapsed": false
   },
   "outputs": [],
   "source": []
  },
  {
   "cell_type": "code",
   "execution_count": null,
   "metadata": {
    "collapsed": false
   },
   "outputs": [],
   "source": [
    "def return_outliers_via_IQR(series):\n",
    "    q1 = series.dropna().quantile(.25)\n",
    "    q3 = series.dropna().quantile(.75)\n",
    "    iqr = q3 - q1\n",
    "    \n",
    "    return (series < q1 - (1.5 * iqr)) | (series > q3 + (1.5 * iqr))"
   ]
  },
  {
   "cell_type": "code",
   "execution_count": null,
   "metadata": {
    "collapsed": false
   },
   "outputs": [],
   "source": [
    "df_mask = return_outliers_via_IQR(data.tenders_sold)\n",
    "data[df_mask]"
   ]
  },
  {
   "cell_type": "code",
   "execution_count": null,
   "metadata": {
    "collapsed": false
   },
   "outputs": [],
   "source": [
    "#Find outliers after remove invalid data\n",
    "data[data['tenders_sold'] > data['tenders_sold'].std() * 3]"
   ]
  },
  {
   "cell_type": "markdown",
   "metadata": {},
   "source": [
    "## No need to replace outliers; only target variable would be problematic"
   ]
  },
  {
   "cell_type": "code",
   "execution_count": null,
   "metadata": {
    "collapsed": true
   },
   "outputs": [],
   "source": [
    "#Replace tenders_sold outliers\n",
    "# data.ix[data['tenders_sold'] > data['tenders_sold'].std() * 3 ,['tenders_sold','bids_received']] = np.nan;"
   ]
  },
  {
   "cell_type": "code",
   "execution_count": null,
   "metadata": {
    "collapsed": false
   },
   "outputs": [],
   "source": [
    "#Didnt remove it as i think those records are not outliers\n",
    "data[data['bids_received'] > data['bids_received'].std() * 3]"
   ]
  },
  {
   "cell_type": "code",
   "execution_count": null,
   "metadata": {
    "collapsed": false
   },
   "outputs": [],
   "source": [
    "data.isnull().sum()"
   ]
  },
  {
   "cell_type": "code",
   "execution_count": null,
   "metadata": {
    "collapsed": false
   },
   "outputs": [],
   "source": [
    "print('procuring_method_vars=>', data['procuring_method'].unique(),'\\n')\n",
    "print('type_of_procuring_entity_vars=>', data['type_of_procuring_entity'].unique())"
   ]
  },
  {
   "cell_type": "code",
   "execution_count": null,
   "metadata": {
    "collapsed": true
   },
   "outputs": [],
   "source": [
    "# Transform categorical variable to numeric variable\n",
    "from sklearn.preprocessing import LabelEncoder\n",
    "lb = LabelEncoder()\n",
    "data['procuring_method_enc'] = lb.fit_transform(data.procuring_method)\n",
    "data['type_of_procuring_entity_enc'] = lb.fit_transform(data.type_of_procuring_entity)"
   ]
  },
  {
   "cell_type": "code",
   "execution_count": null,
   "metadata": {
    "collapsed": false
   },
   "outputs": [],
   "source": [
    "data.head()"
   ]
  },
  {
   "cell_type": "code",
   "execution_count": null,
   "metadata": {
    "collapsed": false
   },
   "outputs": [],
   "source": [
    "#Split data into 70,30\n",
    "# Cathy\n",
    "\n",
    "np.random.seed(123) # get constant vals across the board\n",
    "\n",
    "is_test = np.random.uniform(0, 1, len(data)) > 0.70\n",
    "train = data[is_test==False]\n",
    "test = data[is_test==True]\n",
    "\n",
    "\n"
   ]
  },
  {
   "cell_type": "code",
   "execution_count": null,
   "metadata": {
    "collapsed": false
   },
   "outputs": [],
   "source": [
    "len(train), len(test)"
   ]
  },
  {
   "cell_type": "code",
   "execution_count": null,
   "metadata": {
    "collapsed": true
   },
   "outputs": [],
   "source": [
    "from sklearn.neighbors import KNeighborsRegressor\n",
    "\n",
    "tender_imputer = KNeighborsRegressor(n_neighbors=5)\n",
    "bids_imputer = KNeighborsRegressor(n_neighbors=5)"
   ]
  },
  {
   "cell_type": "code",
   "execution_count": null,
   "metadata": {
    "collapsed": true
   },
   "outputs": [],
   "source": [
    "#Split the training data set \n",
    "train_w = train[train.tenders_sold.isnull()==False]\n",
    "train_w_null = train[train.tenders_sold.isnull()==True]\n"
   ]
  },
  {
   "cell_type": "code",
   "execution_count": null,
   "metadata": {
    "collapsed": true
   },
   "outputs": [],
   "source": [
    "#Create features\n",
    "cols= ['amount', 'ad_date_months','procuring_method_enc','type_of_procuring_entity_enc']"
   ]
  },
  {
   "cell_type": "code",
   "execution_count": null,
   "metadata": {
    "collapsed": false
   },
   "outputs": [],
   "source": [
    "tender_imputer.fit(train_w[cols], train_w.tenders_sold)"
   ]
  },
  {
   "cell_type": "code",
   "execution_count": null,
   "metadata": {
    "collapsed": false
   },
   "outputs": [],
   "source": [
    "tenders_sold_new = tender_imputer.predict(train_w_null[cols])\n",
    "tenders_sold_new[:5]"
   ]
  },
  {
   "cell_type": "code",
   "execution_count": null,
   "metadata": {
    "collapsed": false
   },
   "outputs": [],
   "source": [
    "bids_imputer.fit(train_w[cols], train_w.bids_received)"
   ]
  },
  {
   "cell_type": "code",
   "execution_count": null,
   "metadata": {
    "collapsed": false
   },
   "outputs": [],
   "source": [
    "bids_received_new = bids_imputer.predict(train_w_null[cols])\n",
    "bids_received_new[:5]"
   ]
  },
  {
   "cell_type": "code",
   "execution_count": null,
   "metadata": {
    "collapsed": false
   },
   "outputs": [],
   "source": [
    "#Replace the missing value in training data\n",
    "#Round to nearest integer\n",
    "train_w_null['tenders_sold'] = np.rint(tenders_sold_new)\n",
    "train_w_null['bids_received'] = np.rint(bids_received_new)\n"
   ]
  },
  {
   "cell_type": "code",
   "execution_count": null,
   "metadata": {
    "collapsed": false
   },
   "outputs": [],
   "source": [
    "train_w_null.isnull().sum()"
   ]
  },
  {
   "cell_type": "code",
   "execution_count": null,
   "metadata": {
    "collapsed": false
   },
   "outputs": [],
   "source": [
    "#Fill in missing values in testing data \n",
    "test_w_null = test[test.tenders_sold.isnull()==True]\n",
    "test_w = test[test.tenders_sold.isnull()==False]\n",
    "len(test_w_null) , len(test_w)"
   ]
  },
  {
   "cell_type": "code",
   "execution_count": null,
   "metadata": {
    "collapsed": false
   },
   "outputs": [],
   "source": [
    "tenders_sold_test = tender_imputer.predict(test_w_null[cols])\n",
    "bids_received_test = bids_imputer.predict(test_w_null[cols])"
   ]
  },
  {
   "cell_type": "code",
   "execution_count": null,
   "metadata": {
    "collapsed": false
   },
   "outputs": [],
   "source": [
    "test_w_null['tenders_sold'] = np.rint(tenders_sold_test)\n",
    "test_w_null['bids_received'] = np.rint(bids_received_test)"
   ]
  },
  {
   "cell_type": "code",
   "execution_count": null,
   "metadata": {
    "collapsed": false
   },
   "outputs": [],
   "source": [
    "test_w_null.isnull().sum()"
   ]
  },
  {
   "cell_type": "code",
   "execution_count": null,
   "metadata": {
    "collapsed": false
   },
   "outputs": [],
   "source": [
    "#combine the data back together\n",
    "#Train dataset\n",
    "train = train_w.append(train_w_null)\n",
    "#Test dataset\n",
    "test = test_w.append(test_w_null)\n",
    "len(train),len(test)"
   ]
  },
  {
   "cell_type": "code",
   "execution_count": null,
   "metadata": {
    "collapsed": false
   },
   "outputs": [],
   "source": [
    "data2= train.append(test)\n",
    "len(data2)"
   ]
  },
  {
   "cell_type": "code",
   "execution_count": null,
   "metadata": {
    "collapsed": false
   },
   "outputs": [],
   "source": [
    "data2.isnull().sum()"
   ]
  },
  {
   "cell_type": "code",
   "execution_count": null,
   "metadata": {
    "collapsed": true
   },
   "outputs": [],
   "source": [
    "# data2 = data2.drop(\"description\",axis=1)"
   ]
  },
  {
   "cell_type": "code",
   "execution_count": null,
   "metadata": {
    "collapsed": true
   },
   "outputs": [],
   "source": [
    "data2.to_csv(\"data_cleaning_cathy.csv\",index=False,encoding =  \"utf-8\")"
   ]
  },
  {
   "cell_type": "markdown",
   "metadata": {},
   "source": [
    "## Text feature extraction"
   ]
  },
  {
   "cell_type": "code",
   "execution_count": 8,
   "metadata": {
    "collapsed": true
   },
   "outputs": [],
   "source": [
    "import pandas as pd\n",
    "import numpy as np"
   ]
  },
  {
   "cell_type": "code",
   "execution_count": 9,
   "metadata": {
    "collapsed": true
   },
   "outputs": [],
   "source": [
    "from sklearn.feature_extraction.text import TfidfVectorizer\n",
    "from scipy import sparse"
   ]
  },
  {
   "cell_type": "code",
   "execution_count": 10,
   "metadata": {
    "collapsed": false
   },
   "outputs": [],
   "source": [
    "contracts = pd.read_csv(\"data_cleaning_cathy.csv\")"
   ]
  },
  {
   "cell_type": "code",
   "execution_count": 11,
   "metadata": {
    "collapsed": false
   },
   "outputs": [
    {
     "data": {
      "text/html": [
       "<div>\n",
       "<table border=\"1\" class=\"dataframe\">\n",
       "  <thead>\n",
       "    <tr style=\"text-align: right;\">\n",
       "      <th></th>\n",
       "      <th>procuring_entity</th>\n",
       "      <th>description</th>\n",
       "      <th>amount</th>\n",
       "      <th>procuring_method</th>\n",
       "      <th>advert_date</th>\n",
       "      <th>tenders_sold</th>\n",
       "      <th>bids_received</th>\n",
       "      <th>type_of_procuring_entity</th>\n",
       "      <th>ad_date_months</th>\n",
       "      <th>procuring_method_enc</th>\n",
       "      <th>type_of_procuring_entity_enc</th>\n",
       "    </tr>\n",
       "  </thead>\n",
       "  <tbody>\n",
       "    <tr>\n",
       "      <th>0</th>\n",
       "      <td>kenya industrial research development institute</td>\n",
       "      <td>provision of inpatient medical insurance cover</td>\n",
       "      <td>19538935.0</td>\n",
       "      <td>open tender</td>\n",
       "      <td>2014-06-26</td>\n",
       "      <td>16.0</td>\n",
       "      <td>16.0</td>\n",
       "      <td>parastatal</td>\n",
       "      <td>6</td>\n",
       "      <td>0</td>\n",
       "      <td>7</td>\n",
       "    </tr>\n",
       "    <tr>\n",
       "      <th>1</th>\n",
       "      <td>kenya industrial research development institute</td>\n",
       "      <td>provision of security services</td>\n",
       "      <td>7864800.0</td>\n",
       "      <td>open tender</td>\n",
       "      <td>2014-06-26</td>\n",
       "      <td>17.0</td>\n",
       "      <td>17.0</td>\n",
       "      <td>parastatal</td>\n",
       "      <td>6</td>\n",
       "      <td>0</td>\n",
       "      <td>7</td>\n",
       "    </tr>\n",
       "    <tr>\n",
       "      <th>2</th>\n",
       "      <td>kenya industrial research development institute</td>\n",
       "      <td>audio visual installation works for the propos...</td>\n",
       "      <td>179900280.0</td>\n",
       "      <td>open tender</td>\n",
       "      <td>2014-06-26</td>\n",
       "      <td>7.0</td>\n",
       "      <td>5.0</td>\n",
       "      <td>parastatal</td>\n",
       "      <td>6</td>\n",
       "      <td>0</td>\n",
       "      <td>7</td>\n",
       "    </tr>\n",
       "    <tr>\n",
       "      <th>3</th>\n",
       "      <td>kenya industrial research development institute</td>\n",
       "      <td>lift and escalator installation works for the ...</td>\n",
       "      <td>119532786.0</td>\n",
       "      <td>open tender</td>\n",
       "      <td>2014-06-26</td>\n",
       "      <td>6.0</td>\n",
       "      <td>6.0</td>\n",
       "      <td>parastatal</td>\n",
       "      <td>6</td>\n",
       "      <td>0</td>\n",
       "      <td>7</td>\n",
       "    </tr>\n",
       "    <tr>\n",
       "      <th>4</th>\n",
       "      <td>numerical machining complex</td>\n",
       "      <td>supply, delivery, installation, testing, train...</td>\n",
       "      <td>76500000.0</td>\n",
       "      <td>open tender</td>\n",
       "      <td>2015-01-30</td>\n",
       "      <td>19.0</td>\n",
       "      <td>19.0</td>\n",
       "      <td>parastatal</td>\n",
       "      <td>1</td>\n",
       "      <td>0</td>\n",
       "      <td>7</td>\n",
       "    </tr>\n",
       "  </tbody>\n",
       "</table>\n",
       "</div>"
      ],
      "text/plain": [
       "                                  procuring_entity  \\\n",
       "0  kenya industrial research development institute   \n",
       "1  kenya industrial research development institute   \n",
       "2  kenya industrial research development institute   \n",
       "3  kenya industrial research development institute   \n",
       "4                      numerical machining complex   \n",
       "\n",
       "                                         description       amount  \\\n",
       "0     provision of inpatient medical insurance cover   19538935.0   \n",
       "1                     provision of security services    7864800.0   \n",
       "2  audio visual installation works for the propos...  179900280.0   \n",
       "3  lift and escalator installation works for the ...  119532786.0   \n",
       "4  supply, delivery, installation, testing, train...   76500000.0   \n",
       "\n",
       "  procuring_method advert_date  tenders_sold  bids_received  \\\n",
       "0      open tender  2014-06-26          16.0           16.0   \n",
       "1      open tender  2014-06-26          17.0           17.0   \n",
       "2      open tender  2014-06-26           7.0            5.0   \n",
       "3      open tender  2014-06-26           6.0            6.0   \n",
       "4      open tender  2015-01-30          19.0           19.0   \n",
       "\n",
       "  type_of_procuring_entity  ad_date_months  procuring_method_enc  \\\n",
       "0               parastatal               6                     0   \n",
       "1               parastatal               6                     0   \n",
       "2               parastatal               6                     0   \n",
       "3               parastatal               6                     0   \n",
       "4               parastatal               1                     0   \n",
       "\n",
       "   type_of_procuring_entity_enc  \n",
       "0                             7  \n",
       "1                             7  \n",
       "2                             7  \n",
       "3                             7  \n",
       "4                             7  "
      ]
     },
     "execution_count": 11,
     "metadata": {},
     "output_type": "execute_result"
    }
   ],
   "source": [
    "contracts.head()"
   ]
  },
  {
   "cell_type": "code",
   "execution_count": 12,
   "metadata": {
    "collapsed": false
   },
   "outputs": [
    {
     "data": {
      "text/plain": [
       "procuring_entity                0\n",
       "description                     0\n",
       "amount                          0\n",
       "procuring_method                0\n",
       "advert_date                     0\n",
       "tenders_sold                    0\n",
       "bids_received                   0\n",
       "type_of_procuring_entity        0\n",
       "ad_date_months                  0\n",
       "procuring_method_enc            0\n",
       "type_of_procuring_entity_enc    0\n",
       "dtype: int64"
      ]
     },
     "execution_count": 12,
     "metadata": {},
     "output_type": "execute_result"
    }
   ],
   "source": [
    "contracts.isnull().sum()"
   ]
  },
  {
   "cell_type": "code",
   "execution_count": 13,
   "metadata": {
    "collapsed": false
   },
   "outputs": [
    {
     "data": {
      "text/plain": [
       "539"
      ]
     },
     "execution_count": 13,
     "metadata": {},
     "output_type": "execute_result"
    }
   ],
   "source": [
    "# Length (in chars) of the contract with the largest description\n",
    "max([len(desc) for desc in contracts.description])"
   ]
  },
  {
   "cell_type": "code",
   "execution_count": 14,
   "metadata": {
    "collapsed": false
   },
   "outputs": [
    {
     "data": {
      "text/plain": [
       "15"
      ]
     },
     "execution_count": 14,
     "metadata": {},
     "output_type": "execute_result"
    }
   ],
   "source": [
    "min([len(desc) for desc in contracts.description])"
   ]
  },
  {
   "cell_type": "code",
   "execution_count": 15,
   "metadata": {
    "collapsed": false
   },
   "outputs": [
    {
     "data": {
      "text/plain": [
       "[]"
      ]
     },
     "execution_count": 15,
     "metadata": {},
     "output_type": "execute_result"
    }
   ],
   "source": [
    "[(i,len(desc))for i, desc in enumerate(contracts.description) if len(desc) == 532]"
   ]
  },
  {
   "cell_type": "code",
   "execution_count": 16,
   "metadata": {
    "collapsed": false
   },
   "outputs": [
    {
     "data": {
      "text/plain": [
       "0       provision of inpatient medical insurance cover\n",
       "1                       provision of security services\n",
       "2    audio visual installation works for the propos...\n",
       "3    lift and escalator installation works for the ...\n",
       "4    supply, delivery, installation, testing, train...\n",
       "Name: description, dtype: object"
      ]
     },
     "execution_count": 16,
     "metadata": {},
     "output_type": "execute_result"
    }
   ],
   "source": [
    "contracts.description[:5]"
   ]
  },
  {
   "cell_type": "code",
   "execution_count": 17,
   "metadata": {
    "collapsed": false
   },
   "outputs": [],
   "source": [
    "contracts.description=contracts.description.apply(lambda x: x.replace(\"\\r\",\"\").replace(\"\\n\",\"\").replace(\"\\t\",\"\"))"
   ]
  },
  {
   "cell_type": "markdown",
   "metadata": {},
   "source": [
    "## The things that we will miss such as below; which isn't exactly a 'description' "
   ]
  },
  {
   "cell_type": "code",
   "execution_count": 18,
   "metadata": {
    "collapsed": false
   },
   "outputs": [
    {
     "data": {
      "text/plain": [
       "'a restricted tender was floated to five prequalified suppliers for an advertising agent and only two responded as below:vendor       bid sum (vat inclusive) jwt                kshs 13,114,554transcendkshs 6,315,910considering the two bidders who submitted their bids were pre-qualified, the main criteria used in evaluation was cost.based on the above, the evaluation committee recommended award of the tender to transcend media group on contract basis considering they had submitted the overall lowest cost.'"
      ]
     },
     "execution_count": 18,
     "metadata": {},
     "output_type": "execute_result"
    }
   ],
   "source": [
    "contracts.description[1796]"
   ]
  },
  {
   "cell_type": "code",
   "execution_count": 19,
   "metadata": {
    "collapsed": false
   },
   "outputs": [],
   "source": [
    "tfv = TfidfVectorizer(min_df=3, strip_accents='unicode', analyzer='word',\\\n",
    "token_pattern=r'\\w{1,}', ngram_range=(1,2), use_idf = 1, smooth_idf = 1, sublinear_tf = 1, stop_words='english')"
   ]
  },
  {
   "cell_type": "code",
   "execution_count": 20,
   "metadata": {
    "collapsed": false
   },
   "outputs": [],
   "source": [
    "description_data = tfv.fit_transform(list(contracts.description))"
   ]
  },
  {
   "cell_type": "code",
   "execution_count": 21,
   "metadata": {
    "collapsed": false
   },
   "outputs": [
    {
     "data": {
      "text/plain": [
       "scipy.sparse.csr.csr_matrix"
      ]
     },
     "execution_count": 21,
     "metadata": {},
     "output_type": "execute_result"
    }
   ],
   "source": [
    "type(description_data)"
   ]
  },
  {
   "cell_type": "code",
   "execution_count": 22,
   "metadata": {
    "collapsed": false
   },
   "outputs": [
    {
     "data": {
      "text/plain": [
       "(2407, 2360)"
      ]
     },
     "execution_count": 22,
     "metadata": {},
     "output_type": "execute_result"
    }
   ],
   "source": [
    "description_data.shape"
   ]
  },
  {
   "cell_type": "code",
   "execution_count": 23,
   "metadata": {
    "collapsed": false
   },
   "outputs": [
    {
     "data": {
      "text/plain": [
       "TruncatedSVD(algorithm='randomized', n_components=120, n_iter=5,\n",
       "       random_state=123, tol=0.0)"
      ]
     },
     "execution_count": 23,
     "metadata": {},
     "output_type": "execute_result"
    }
   ],
   "source": [
    "from sklearn.decomposition import TruncatedSVD\n",
    "svd = TruncatedSVD(n_components = 120,random_state=123)\n",
    "svd.fit(description_data)"
   ]
  },
  {
   "cell_type": "code",
   "execution_count": 24,
   "metadata": {
    "collapsed": true
   },
   "outputs": [],
   "source": [
    "description_data = svd.transform(description_data)"
   ]
  },
  {
   "cell_type": "code",
   "execution_count": 25,
   "metadata": {
    "collapsed": false
   },
   "outputs": [
    {
     "data": {
      "text/plain": [
       "(2407, 120)"
      ]
     },
     "execution_count": 25,
     "metadata": {},
     "output_type": "execute_result"
    }
   ],
   "source": [
    "description_data.shape"
   ]
  },
  {
   "cell_type": "code",
   "execution_count": 26,
   "metadata": {
    "collapsed": false
   },
   "outputs": [
    {
     "data": {
      "text/plain": [
       "Index(['procuring_entity', 'description', 'amount', 'procuring_method',\n",
       "       'advert_date', 'tenders_sold', 'bids_received',\n",
       "       'type_of_procuring_entity', 'ad_date_months', 'procuring_method_enc',\n",
       "       'type_of_procuring_entity_enc'],\n",
       "      dtype='object')"
      ]
     },
     "execution_count": 26,
     "metadata": {},
     "output_type": "execute_result"
    }
   ],
   "source": [
    "contracts.columns"
   ]
  },
  {
   "cell_type": "markdown",
   "metadata": {},
   "source": [
    "## Data Prediction"
   ]
  },
  {
   "cell_type": "code",
   "execution_count": 27,
   "metadata": {
    "collapsed": true
   },
   "outputs": [],
   "source": [
    "from sklearn.preprocessing import OneHotEncoder"
   ]
  },
  {
   "cell_type": "code",
   "execution_count": 28,
   "metadata": {
    "collapsed": false
   },
   "outputs": [],
   "source": [
    "contracts_type_pe = pd.get_dummies(data=contracts.type_of_procuring_entity_enc, prefix=\"proc_ent\")\n",
    "contracts_type_pe = contracts_type_pe.drop('proc_ent_0', axis =1)"
   ]
  },
  {
   "cell_type": "code",
   "execution_count": 29,
   "metadata": {
    "collapsed": false
   },
   "outputs": [],
   "source": [
    "cols_to_drop = ['type_of_procuring_entity_enc','description','type_of_procuring_entity','advert_date','procuring_method','procuring_entity']\n",
    "contracts  = pd.concat([contracts.drop(cols_to_drop,axis=1), contracts_type_pe], axis =1)"
   ]
  },
  {
   "cell_type": "code",
   "execution_count": 30,
   "metadata": {
    "collapsed": false
   },
   "outputs": [
    {
     "data": {
      "text/plain": [
       "Index(['amount', 'tenders_sold', 'bids_received', 'ad_date_months',\n",
       "       'procuring_method_enc', 'proc_ent_1', 'proc_ent_2', 'proc_ent_3',\n",
       "       'proc_ent_4', 'proc_ent_5', 'proc_ent_6', 'proc_ent_7', 'proc_ent_8',\n",
       "       'proc_ent_9'],\n",
       "      dtype='object')"
      ]
     },
     "execution_count": 30,
     "metadata": {},
     "output_type": "execute_result"
    }
   ],
   "source": [
    "contracts.columns"
   ]
  },
  {
   "cell_type": "code",
   "execution_count": 31,
   "metadata": {
    "collapsed": false
   },
   "outputs": [
    {
     "data": {
      "text/plain": [
       "(2407, 133)"
      ]
     },
     "execution_count": 31,
     "metadata": {},
     "output_type": "execute_result"
    }
   ],
   "source": [
    "combined_features = np.hstack((contracts.drop('amount', axis=1).as_matrix(),description_data))\n",
    "combined_features.shape\n",
    "\n"
   ]
  },
  {
   "cell_type": "code",
   "execution_count": null,
   "metadata": {
    "collapsed": true
   },
   "outputs": [],
   "source": []
  },
  {
   "cell_type": "code",
   "execution_count": 32,
   "metadata": {
    "collapsed": false
   },
   "outputs": [
    {
     "data": {
      "text/plain": [
       "(2407, 133)"
      ]
     },
     "execution_count": 32,
     "metadata": {},
     "output_type": "execute_result"
    }
   ],
   "source": [
    "# X = contracts[['tenders_sold', 'bids_received', 'ad_date_months',\\\n",
    "# 'procuring_method_enc', 'proc_ent_1', 'proc_ent_2', 'proc_ent_3',\\\n",
    "# 'proc_ent_4', 'proc_ent_5', 'proc_ent_6', 'proc_ent_7', 'proc_ent_8',\\\n",
    "# 'proc_ent_9']]\n",
    "\n",
    "X = combined_features\n",
    "X.shape"
   ]
  },
  {
   "cell_type": "code",
   "execution_count": 33,
   "metadata": {
    "collapsed": true
   },
   "outputs": [],
   "source": [
    "Y = contracts.amount\n",
    "Y = Y.as_matrix()"
   ]
  },
  {
   "cell_type": "code",
   "execution_count": 34,
   "metadata": {
    "collapsed": false
   },
   "outputs": [
    {
     "name": "stderr",
     "output_type": "stream",
     "text": [
      "/Users/sincheng/anaconda/lib/python3.6/site-packages/sklearn/cross_validation.py:44: DeprecationWarning: This module was deprecated in version 0.18 in favor of the model_selection module into which all the refactored classes and functions are moved. Also note that the interface of the new CV iterators are different from that of this module. This module will be removed in 0.20.\n",
      "  \"This module will be removed in 0.20.\", DeprecationWarning)\n"
     ]
    }
   ],
   "source": [
    "from sklearn.cross_validation import KFold"
   ]
  },
  {
   "cell_type": "code",
   "execution_count": 35,
   "metadata": {
    "collapsed": true
   },
   "outputs": [],
   "source": [
    "evaluation_size = 0.1\n",
    "kf = KFold(len(contracts), round(1./evaluation_size), random_state=123)"
   ]
  },
  {
   "cell_type": "code",
   "execution_count": 36,
   "metadata": {
    "collapsed": false
   },
   "outputs": [
    {
     "data": {
      "text/plain": [
       "sklearn.cross_validation.KFold(n=2407, n_folds=10, shuffle=False, random_state=123)"
      ]
     },
     "execution_count": 36,
     "metadata": {},
     "output_type": "execute_result"
    }
   ],
   "source": [
    "kf"
   ]
  },
  {
   "cell_type": "code",
   "execution_count": 37,
   "metadata": {
    "collapsed": false
   },
   "outputs": [],
   "source": [
    "# getting the split\n",
    "train_indices, validation_indices = next(iter(kf)) # K => 1st run split 10 times\n",
    "\n",
    "X_train, Y_train = X[list(train_indices)], Y[list(train_indices)]\n",
    "\n",
    "X_validation, Y_validation = X[validation_indices], Y[validation_indices]"
   ]
  },
  {
   "cell_type": "code",
   "execution_count": 38,
   "metadata": {
    "collapsed": false
   },
   "outputs": [
    {
     "data": {
      "text/plain": [
       "(2166, 241)"
      ]
     },
     "execution_count": 38,
     "metadata": {},
     "output_type": "execute_result"
    }
   ],
   "source": [
    "len(X_train), len(X_validation)"
   ]
  },
  {
   "cell_type": "markdown",
   "metadata": {},
   "source": [
    "## Model Building"
   ]
  },
  {
   "cell_type": "code",
   "execution_count": 39,
   "metadata": {
    "collapsed": false
   },
   "outputs": [],
   "source": [
    "from sklearn.ensemble import RandomForestRegressor"
   ]
  },
  {
   "cell_type": "code",
   "execution_count": 40,
   "metadata": {
    "collapsed": false
   },
   "outputs": [],
   "source": [
    "from sklearn.model_selection import GridSearchCV"
   ]
  },
  {
   "cell_type": "code",
   "execution_count": 41,
   "metadata": {
    "collapsed": false
   },
   "outputs": [],
   "source": [
    "# Grid Search\n",
    "\n",
    "param_grid = [\n",
    "    {'bootstrap': [False], 'n_estimators': [50,100], 'max_features':['sqrt',0.2]},\n",
    "  ]\n",
    "\n",
    "rf_regressor= RandomForestRegressor(criterion='mae',n_jobs=-1,warm_start=True,min_samples_leaf=50,random_state=123)\n",
    "\n",
    "\n",
    "grid_search = GridSearchCV(rf_regressor, param_grid, cv=5,\n",
    "                           scoring='neg_mean_absolute_error')\n",
    "\n"
   ]
  },
  {
   "cell_type": "code",
   "execution_count": 42,
   "metadata": {
    "collapsed": false
   },
   "outputs": [
    {
     "data": {
      "text/plain": [
       "GridSearchCV(cv=5, error_score='raise',\n",
       "       estimator=RandomForestRegressor(bootstrap=True, criterion='mae', max_depth=None,\n",
       "           max_features='auto', max_leaf_nodes=None,\n",
       "           min_impurity_split=1e-07, min_samples_leaf=50,\n",
       "           min_samples_split=2, min_weight_fraction_leaf=0.0,\n",
       "           n_estimators=10, n_jobs=-1, oob_score=False, random_state=123,\n",
       "           verbose=0, warm_start=True),\n",
       "       fit_params={}, iid=True, n_jobs=1,\n",
       "       param_grid=[{'bootstrap': [False], 'n_estimators': [50, 100], 'max_features': ['sqrt', 0.2]}],\n",
       "       pre_dispatch='2*n_jobs', refit=True, return_train_score=True,\n",
       "       scoring='neg_mean_absolute_error', verbose=0)"
      ]
     },
     "execution_count": 42,
     "metadata": {},
     "output_type": "execute_result"
    }
   ],
   "source": [
    "grid_search.fit(X_train, Y_train)"
   ]
  },
  {
   "cell_type": "code",
   "execution_count": 43,
   "metadata": {
    "collapsed": false
   },
   "outputs": [
    {
     "name": "stdout",
     "output_type": "stream",
     "text": [
      "78154845.8914 {'bootstrap': False, 'max_features': 'sqrt', 'n_estimators': 50}\n",
      "78026614.9279 {'bootstrap': False, 'max_features': 'sqrt', 'n_estimators': 100}\n",
      "77960651.653 {'bootstrap': False, 'max_features': 0.2, 'n_estimators': 50}\n",
      "77854087.1743 {'bootstrap': False, 'max_features': 0.2, 'n_estimators': 100}\n"
     ]
    }
   ],
   "source": [
    "cvres1 = grid_search.cv_results_\n",
    "for mean_score, params in zip(cvres1[\"mean_test_score\"], cvres1[\"params\"]):\n",
    "    print(-mean_score, params)"
   ]
  },
  {
   "cell_type": "code",
   "execution_count": 36,
   "metadata": {
    "collapsed": false
   },
   "outputs": [
    {
     "name": "stdout",
     "output_type": "stream",
     "text": [
      "78168912.634 {'bootstrap': False, 'max_features': 'sqrt', 'n_estimators': 50}\n",
      "78016630.1524 {'bootstrap': False, 'max_features': 'sqrt', 'n_estimators': 100}\n",
      "78035213.3574 {'bootstrap': False, 'max_features': 'sqrt', 'n_estimators': 200}\n",
      "77914189.1084 {'bootstrap': False, 'max_features': 0.2, 'n_estimators': 50}\n",
      "77989062.5705 {'bootstrap': False, 'max_features': 0.2, 'n_estimators': 100}\n",
      "78017601.3537 {'bootstrap': False, 'max_features': 0.2, 'n_estimators': 200}\n",
      "77997339.6631 {'bootstrap': False, 'max_features': 0.3, 'n_estimators': 50}\n",
      "78166684.4572 {'bootstrap': False, 'max_features': 0.3, 'n_estimators': 100}\n",
      "78061242.5723 {'bootstrap': False, 'max_features': 0.3, 'n_estimators': 200}\n"
     ]
    }
   ],
   "source": [
    "cvres = grid_search.cv_results_\n",
    "for mean_score, params in zip(cvres[\"mean_test_score\"], cvres[\"params\"]):\n",
    "    print(-mean_score, params)"
   ]
  },
  {
   "cell_type": "code",
   "execution_count": null,
   "metadata": {
    "collapsed": true
   },
   "outputs": [],
   "source": [
    "from sklearn.metrics import median_absolute_error"
   ]
  },
  {
   "cell_type": "code",
   "execution_count": null,
   "metadata": {
    "collapsed": true
   },
   "outputs": [],
   "source": [
    "from sklearn.metrics import mean_squared_error"
   ]
  },
  {
   "cell_type": "code",
   "execution_count": null,
   "metadata": {
    "collapsed": false
   },
   "outputs": [],
   "source": [
    "y_predict = grid_search.predict(X_validation)"
   ]
  },
  {
   "cell_type": "code",
   "execution_count": null,
   "metadata": {
    "collapsed": false
   },
   "outputs": [],
   "source": [
    "len(y_predict)"
   ]
  },
  {
   "cell_type": "code",
   "execution_count": null,
   "metadata": {
    "collapsed": false
   },
   "outputs": [],
   "source": [
    "ms = mean_squared_error(Y_validation, y_predict)"
   ]
  },
  {
   "cell_type": "code",
   "execution_count": null,
   "metadata": {
    "collapsed": false
   },
   "outputs": [],
   "source": [
    "rmse = np.sqrt(ms)\n",
    "rmse"
   ]
  },
  {
   "cell_type": "code",
   "execution_count": null,
   "metadata": {
    "collapsed": false
   },
   "outputs": [],
   "source": [
    "median_absolute_error(Y_validation, y_predict)"
   ]
  },
  {
   "cell_type": "code",
   "execution_count": null,
   "metadata": {
    "collapsed": false
   },
   "outputs": [],
   "source": [
    "np.mean(contracts.amount)"
   ]
  },
  {
   "cell_type": "code",
   "execution_count": null,
   "metadata": {
    "collapsed": true
   },
   "outputs": [],
   "source": []
  }
 ],
 "metadata": {
  "kernelspec": {
   "display_name": "Python 3",
   "language": "python",
   "name": "python3"
  },
  "language_info": {
   "codemirror_mode": {
    "name": "ipython",
    "version": 3
   },
   "file_extension": ".py",
   "mimetype": "text/x-python",
   "name": "python",
   "nbconvert_exporter": "python",
   "pygments_lexer": "ipython3",
   "version": "3.5.3"
  }
 },
 "nbformat": 4,
 "nbformat_minor": 2
}
